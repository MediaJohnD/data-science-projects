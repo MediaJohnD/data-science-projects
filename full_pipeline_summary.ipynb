{
 "cells": [
  {
   "cell_type": "markdown",
   "id": "a175a828",
   "metadata": {},
   "source": [
    "# Full Pipeline Summary\n",
    "\n",
    "This notebook demonstrates the sample pipeline from ingestion to modeling. The repository uses small dummy data for illustration, which keeps the dependencies light for admissions review."
   ]
  },
  {
   "cell_type": "code",
   "execution_count": 1,
   "id": "9af155e3",
   "metadata": {
    "execution": {
     "iopub.execute_input": "2025-06-20T01:06:49.208889Z",
     "iopub.status.busy": "2025-06-20T01:06:49.208576Z",
     "iopub.status.idle": "2025-06-20T01:06:50.232728Z",
     "shell.execute_reply": "2025-06-20T01:06:50.231703Z"
    }
   },
   "outputs": [
    {
     "data": {
      "text/html": [
       "<div>\n",
       "<style scoped>\n",
       "    .dataframe tbody tr th:only-of-type {\n",
       "        vertical-align: middle;\n",
       "    }\n",
       "\n",
       "    .dataframe tbody tr th {\n",
       "        vertical-align: top;\n",
       "    }\n",
       "\n",
       "    .dataframe thead th {\n",
       "        text-align: right;\n",
       "    }\n",
       "</style>\n",
       "<table border=\"1\" class=\"dataframe\">\n",
       "  <thead>\n",
       "    <tr style=\"text-align: right;\">\n",
       "      <th></th>\n",
       "      <th>device_id</th>\n",
       "      <th>timestamp</th>\n",
       "      <th>poi_id</th>\n",
       "    </tr>\n",
       "  </thead>\n",
       "  <tbody>\n",
       "    <tr>\n",
       "      <th>0</th>\n",
       "      <td>A</td>\n",
       "      <td>2023-01-01 00:00:00</td>\n",
       "      <td>1</td>\n",
       "    </tr>\n",
       "    <tr>\n",
       "      <th>1</th>\n",
       "      <td>A</td>\n",
       "      <td>2023-01-01 01:00:00</td>\n",
       "      <td>2</td>\n",
       "    </tr>\n",
       "    <tr>\n",
       "      <th>2</th>\n",
       "      <td>B</td>\n",
       "      <td>2023-01-01 00:00:00</td>\n",
       "      <td>1</td>\n",
       "    </tr>\n",
       "    <tr>\n",
       "      <th>3</th>\n",
       "      <td>B</td>\n",
       "      <td>2023-01-01 01:00:00</td>\n",
       "      <td>2</td>\n",
       "    </tr>\n",
       "    <tr>\n",
       "      <th>4</th>\n",
       "      <td>C</td>\n",
       "      <td>2023-01-01 00:00:00</td>\n",
       "      <td>1</td>\n",
       "    </tr>\n",
       "  </tbody>\n",
       "</table>\n",
       "</div>"
      ],
      "text/plain": [
       "  device_id           timestamp  poi_id\n",
       "0         A 2023-01-01 00:00:00       1\n",
       "1         A 2023-01-01 01:00:00       2\n",
       "2         B 2023-01-01 00:00:00       1\n",
       "3         B 2023-01-01 01:00:00       2\n",
       "4         C 2023-01-01 00:00:00       1"
      ]
     },
     "execution_count": 1,
     "metadata": {},
     "output_type": "execute_result"
    }
   ],
   "source": [
    "import sys\n",
    "sys.path.append('src')\n",
    "from ingestion.load_data import run as ingest\n",
    "from features.engineer_features import run as engineer\n",
    "from modeling.opti_shift import train\n",
    "\n",
    "# Load sample data\n",
    "visits = ingest()\n",
    "visits.head()"
   ]
  },
  {
   "cell_type": "code",
   "execution_count": 2,
   "id": "754b2738",
   "metadata": {
    "execution": {
     "iopub.execute_input": "2025-06-20T01:06:50.236171Z",
     "iopub.status.busy": "2025-06-20T01:06:50.235741Z",
     "iopub.status.idle": "2025-06-20T01:06:50.252485Z",
     "shell.execute_reply": "2025-06-20T01:06:50.251592Z"
    }
   },
   "outputs": [
    {
     "data": {
      "text/html": [
       "<div>\n",
       "<style scoped>\n",
       "    .dataframe tbody tr th:only-of-type {\n",
       "        vertical-align: middle;\n",
       "    }\n",
       "\n",
       "    .dataframe tbody tr th {\n",
       "        vertical-align: top;\n",
       "    }\n",
       "\n",
       "    .dataframe thead th {\n",
       "        text-align: right;\n",
       "    }\n",
       "</style>\n",
       "<table border=\"1\" class=\"dataframe\">\n",
       "  <thead>\n",
       "    <tr style=\"text-align: right;\">\n",
       "      <th></th>\n",
       "      <th>device_id</th>\n",
       "      <th>visit_count</th>\n",
       "      <th>unique_pois</th>\n",
       "    </tr>\n",
       "  </thead>\n",
       "  <tbody>\n",
       "    <tr>\n",
       "      <th>0</th>\n",
       "      <td>A</td>\n",
       "      <td>2</td>\n",
       "      <td>2</td>\n",
       "    </tr>\n",
       "    <tr>\n",
       "      <th>1</th>\n",
       "      <td>B</td>\n",
       "      <td>2</td>\n",
       "      <td>2</td>\n",
       "    </tr>\n",
       "    <tr>\n",
       "      <th>2</th>\n",
       "      <td>C</td>\n",
       "      <td>2</td>\n",
       "      <td>2</td>\n",
       "    </tr>\n",
       "    <tr>\n",
       "      <th>3</th>\n",
       "      <td>D</td>\n",
       "      <td>2</td>\n",
       "      <td>2</td>\n",
       "    </tr>\n",
       "    <tr>\n",
       "      <th>4</th>\n",
       "      <td>E</td>\n",
       "      <td>2</td>\n",
       "      <td>2</td>\n",
       "    </tr>\n",
       "    <tr>\n",
       "      <th>5</th>\n",
       "      <td>F</td>\n",
       "      <td>2</td>\n",
       "      <td>2</td>\n",
       "    </tr>\n",
       "    <tr>\n",
       "      <th>6</th>\n",
       "      <td>G</td>\n",
       "      <td>2</td>\n",
       "      <td>2</td>\n",
       "    </tr>\n",
       "    <tr>\n",
       "      <th>7</th>\n",
       "      <td>H</td>\n",
       "      <td>2</td>\n",
       "      <td>2</td>\n",
       "    </tr>\n",
       "    <tr>\n",
       "      <th>8</th>\n",
       "      <td>I</td>\n",
       "      <td>2</td>\n",
       "      <td>2</td>\n",
       "    </tr>\n",
       "    <tr>\n",
       "      <th>9</th>\n",
       "      <td>J</td>\n",
       "      <td>2</td>\n",
       "      <td>1</td>\n",
       "    </tr>\n",
       "    <tr>\n",
       "      <th>10</th>\n",
       "      <td>K</td>\n",
       "      <td>2</td>\n",
       "      <td>1</td>\n",
       "    </tr>\n",
       "    <tr>\n",
       "      <th>11</th>\n",
       "      <td>L</td>\n",
       "      <td>2</td>\n",
       "      <td>1</td>\n",
       "    </tr>\n",
       "  </tbody>\n",
       "</table>\n",
       "</div>"
      ],
      "text/plain": [
       "   device_id  visit_count  unique_pois\n",
       "0          A            2            2\n",
       "1          B            2            2\n",
       "2          C            2            2\n",
       "3          D            2            2\n",
       "4          E            2            2\n",
       "5          F            2            2\n",
       "6          G            2            2\n",
       "7          H            2            2\n",
       "8          I            2            2\n",
       "9          J            2            1\n",
       "10         K            2            1\n",
       "11         L            2            1"
      ]
     },
     "execution_count": 2,
     "metadata": {},
     "output_type": "execute_result"
    }
   ],
   "source": [
    "# Engineer features\n",
    "features = engineer(visits)\n",
    "features"
   ]
  },
  {
   "cell_type": "code",
   "execution_count": 3,
   "id": "bf37d502",
   "metadata": {
    "execution": {
     "iopub.execute_input": "2025-06-20T01:06:50.255462Z",
     "iopub.status.busy": "2025-06-20T01:06:50.255193Z",
     "iopub.status.idle": "2025-06-20T01:06:51.215460Z",
     "shell.execute_reply": "2025-06-20T01:06:51.214371Z"
    }
   },
   "outputs": [
    {
     "data": {
      "image/png": "[encoded data removed]",
      "text/plain": [
       "<Figure size 640x480 with 1 Axes>"
      ]
     },
     "metadata": {},
     "output_type": "display_data"
    }
   ],
   "source": [
    "import matplotlib.pyplot as plt\n",
    "import seaborn as sns\n",
    "sns.barplot(x='device_id', y='visit_count', data=features)\n",
    "plt.title('Visit count per device');\n",
    "plt.show()"
   ]
  },
  {
   "cell_type": "code",
   "execution_count": 4,
   "id": "9bb87d9b",
   "metadata": {
    "execution": {
     "iopub.execute_input": "2025-06-20T01:06:51.219720Z",
     "iopub.status.busy": "2025-06-20T01:06:51.219263Z",
     "iopub.status.idle": "2025-06-20T01:06:51.290003Z",
     "shell.execute_reply": "2025-06-20T01:06:51.288909Z"
    }
   },
   "outputs": [
    {
     "data": {
      "text/plain": [
       "{'accuracy': 0.75, 'precision': 0.75, 'recall': 1.0, 'roc_auc': 1.0}"
      ]
     },
     "execution_count": 4,
     "metadata": {},
     "output_type": "execute_result"
    }
   ],
   "source": [
    "# Train logistic regression\n",
    "model, metrics = train(features[['visit_count', 'unique_pois']], (features['unique_pois'] > 1).astype(int))\n",
    "metrics"
   ]
  }
 ],
 "metadata": {
  "language_info": {
   "codemirror_mode": {
    "name": "ipython",
    "version": 3
   },
   "file_extension": ".py",
   "mimetype": "text/x-python",
   "name": "python",
   "nbconvert_exporter": "python",
   "pygments_lexer": "ipython3",
   "version": "3.11.12"
  }
 },
 "nbformat": 4,
 "nbformat_minor": 5
}
