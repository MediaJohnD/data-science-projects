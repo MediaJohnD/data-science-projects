{
 "cells": [
  {
   "cell_type": "markdown",
   "id": "a175a828",
   "metadata": {},
   "source": [
    "# Full Pipeline Summary\n",
    "\n",
    "This notebook demonstrates the sample pipeline from ingestion to modeling. The repository uses small dummy data for illustration, which keeps the dependencies light for admissions review."
   ]
  },
  {
   "cell_type": "code",
   "execution_count": null,
   "id": "9af155e3",
   "metadata": {},
   "outputs": [],
   "source": [
    "from ingestion.load_data import run as ingest\n",
    "from features.engineer_features import run as engineer\n",
    "from modeling.opti_shift import train\n",
    "\n",
    "# Load sample data\n",
    "visits = ingest()\n",
    "visits.head()"
   ]
  },
  {
   "cell_type": "code",
   "execution_count": null,
   "id": "754b2738",
   "metadata": {},
   "outputs": [],
   "source": [
    "# Engineer features\n",
    "features = engineer(visits)\n",
    "features"
   ]
  },
  {
   "cell_type": "code",
   "execution_count": null,
   "id": "bf37d502",
   "metadata": {},
   "outputs": [],
   "source": [
    "import matplotlib.pyplot as plt\n",
    "import seaborn as sns\n",
    "sns.barplot(x='device_id', y='visit_count', data=features)\n",
    "plt.title('Visit count per device');\n",
    "plt.show()"
   ]
  },
  {
   "cell_type": "code",
   "execution_count": null,
   "id": "9bb87d9b",
   "metadata": {},
   "outputs": [],
   "source": [
    "# Train logistic regression\n",
    "model, acc = train(features[['visit_count', 'unique_pois']], (features['unique_pois'] > 1).astype(int))\n",
    "print('Training accuracy:', acc)"
   ]
  }
 ],
 "metadata": {},
 "nbformat": 4,
 "nbformat_minor": 5
}
